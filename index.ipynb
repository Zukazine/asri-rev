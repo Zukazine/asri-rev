{
 "cells": [
  {
   "cell_type": "code",
   "execution_count": 4,
   "metadata": {},
   "outputs": [
    {
     "name": "stdout",
     "output_type": "stream",
     "text": [
      "Successfully converted public/data/di.shp to public/data/di.geojson\n"
     ]
    }
   ],
   "source": [
    "import geopandas as gpd\n",
    "import os\n",
    "\n",
    "# Function to convert SHP to GeoJSON\n",
    "def shp_to_geojson(shp_file, geojson_file):\n",
    "    # Check if the shapefile exists\n",
    "    if not os.path.exists(shp_file):\n",
    "        print(f\"Error: The file {shp_file} does not exist.\")\n",
    "        return\n",
    "    \n",
    "    try:\n",
    "        # Read the Shapefile\n",
    "        gdf = gpd.read_file(shp_file)\n",
    "        \n",
    "        # Export to GeoJSON\n",
    "        gdf.to_file(geojson_file, driver='GeoJSON')\n",
    "        print(f\"Successfully converted {shp_file} to {geojson_file}\")\n",
    "    except Exception as e:\n",
    "        print(f\"An error occurred: {e}\")\n",
    "\n",
    "# Example usage\n",
    "if __name__ == \"__main__\":\n",
    "    shp_file = \"public/data/di.shp\"  # Replace with your SHP file path\n",
    "    geojson_file = \"public/data/di.geojson\"  # Replace with desired output GeoJSON file path\n",
    "    shp_to_geojson(shp_file, geojson_file)\n"
   ]
  }
 ],
 "metadata": {
  "kernelspec": {
   "display_name": "Python 3",
   "language": "python",
   "name": "python3"
  },
  "language_info": {
   "codemirror_mode": {
    "name": "ipython",
    "version": 3
   },
   "file_extension": ".py",
   "mimetype": "text/x-python",
   "name": "python",
   "nbconvert_exporter": "python",
   "pygments_lexer": "ipython3",
   "version": "3.12.2"
  }
 },
 "nbformat": 4,
 "nbformat_minor": 2
}
